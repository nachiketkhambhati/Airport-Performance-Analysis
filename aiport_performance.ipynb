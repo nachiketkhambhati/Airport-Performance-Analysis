{
 "cells": [
  {
   "cell_type": "markdown",
   "metadata": {},
   "source": [
    "# Aiport Performance Analysis\n",
    "\n",
    "Use data from US Dept of Transportation available at https://www.transtats.bts.gov/Homepage.asp from the Bureau of Transportation Statistics on flight delay and cancellation times to create actionable insights and data visualization."
   ]
  },
  {
   "cell_type": "markdown",
   "metadata": {},
   "source": [
    "## Data Exploration"
   ]
  },
  {
   "cell_type": "code",
   "execution_count": 1,
   "metadata": {},
   "outputs": [
    {
     "name": "stdout",
     "output_type": "stream",
     "text": [
      "      FL_DATE OP_CARRIER  OP_CARRIER_FL_NUM ORIGIN DEST  CRS_DEP_TIME  \\\n",
      "0  2009-01-01         XE               1204    DCA  EWR          1100   \n",
      "1  2009-01-01         XE               1206    EWR  IAD          1510   \n",
      "2  2009-01-01         XE               1207    EWR  DCA          1100   \n",
      "3  2009-01-01         XE               1208    DCA  EWR          1240   \n",
      "4  2009-01-01         XE               1209    IAD  EWR          1715   \n",
      "\n",
      "   DEP_TIME  DEP_DELAY  TAXI_OUT  WHEELS_OFF  ...  CRS_ELAPSED_TIME  \\\n",
      "0    1058.0       -2.0      18.0      1116.0  ...              62.0   \n",
      "1    1509.0       -1.0      28.0      1537.0  ...              82.0   \n",
      "2    1059.0       -1.0      20.0      1119.0  ...              70.0   \n",
      "3    1249.0        9.0      10.0      1259.0  ...              77.0   \n",
      "4    1705.0      -10.0      24.0      1729.0  ...             105.0   \n",
      "\n",
      "   ACTUAL_ELAPSED_TIME  AIR_TIME  DISTANCE  CARRIER_DELAY  WEATHER_DELAY  \\\n",
      "0                 68.0      42.0     199.0            NaN            NaN   \n",
      "1                 75.0      43.0     213.0            NaN            NaN   \n",
      "2                 62.0      36.0     199.0            NaN            NaN   \n",
      "3                 56.0      37.0     199.0            NaN            NaN   \n",
      "4                 77.0      40.0     213.0            NaN            NaN   \n",
      "\n",
      "  NAS_DELAY  SECURITY_DELAY  LATE_AIRCRAFT_DELAY  Unnamed: 27  \n",
      "0       NaN             NaN                  NaN          NaN  \n",
      "1       NaN             NaN                  NaN          NaN  \n",
      "2       NaN             NaN                  NaN          NaN  \n",
      "3       NaN             NaN                  NaN          NaN  \n",
      "4       NaN             NaN                  NaN          NaN  \n",
      "\n",
      "[5 rows x 28 columns]\n"
     ]
    }
   ],
   "source": [
    "# Import modules\n",
    "import numpy as np\n",
    "import pandas as pd\n",
    "import matplotlib.pyplot as plt\n",
    "\n",
    "# Data Exploration\n",
    "df_2009 = pd.read_csv(\"2009.csv\")\n",
    "print(df_2009.head())"
   ]
  },
  {
   "cell_type": "code",
   "execution_count": 2,
   "metadata": {},
   "outputs": [
    {
     "name": "stdout",
     "output_type": "stream",
     "text": [
      "Index(['FL_DATE', 'OP_CARRIER', 'OP_CARRIER_FL_NUM', 'ORIGIN', 'DEST',\n",
      "       'CRS_DEP_TIME', 'DEP_TIME', 'DEP_DELAY', 'TAXI_OUT', 'WHEELS_OFF',\n",
      "       'WHEELS_ON', 'TAXI_IN', 'CRS_ARR_TIME', 'ARR_TIME', 'ARR_DELAY',\n",
      "       'CANCELLED', 'CANCELLATION_CODE', 'DIVERTED', 'CRS_ELAPSED_TIME',\n",
      "       'ACTUAL_ELAPSED_TIME', 'AIR_TIME', 'DISTANCE', 'CARRIER_DELAY',\n",
      "       'WEATHER_DELAY', 'NAS_DELAY', 'SECURITY_DELAY', 'LATE_AIRCRAFT_DELAY',\n",
      "       'Unnamed: 27'],\n",
      "      dtype='object')\n"
     ]
    }
   ],
   "source": [
    "print(df_2009.columns)"
   ]
  },
  {
   "cell_type": "markdown",
   "metadata": {},
   "source": [
    "## Data Cleaning"
   ]
  },
  {
   "cell_type": "code",
   "execution_count": 3,
   "metadata": {},
   "outputs": [],
   "source": [
    "df_2009 = df_2009.drop(columns=[\"Unnamed: 27\"])"
   ]
  },
  {
   "cell_type": "code",
   "execution_count": 4,
   "metadata": {},
   "outputs": [
    {
     "name": "stdout",
     "output_type": "stream",
     "text": [
      "FL_DATE                      0\n",
      "OP_CARRIER                   0\n",
      "OP_CARRIER_FL_NUM            0\n",
      "ORIGIN                       0\n",
      "DEST                         0\n",
      "CRS_DEP_TIME                 0\n",
      "DEP_TIME                 82867\n",
      "DEP_DELAY                82867\n",
      "TAXI_OUT                 85787\n",
      "WHEELS_OFF               85787\n",
      "WHEELS_ON                89322\n",
      "TAXI_IN                  89321\n",
      "CRS_ARR_TIME                 0\n",
      "ARR_TIME                 89322\n",
      "ARR_DELAY               102361\n",
      "CANCELLED                    0\n",
      "CANCELLATION_CODE      6342300\n",
      "DIVERTED                     0\n",
      "CRS_ELAPSED_TIME             0\n",
      "ACTUAL_ELAPSED_TIME     102362\n",
      "AIR_TIME                102361\n",
      "DISTANCE                     0\n",
      "CARRIER_DELAY          5258837\n",
      "WEATHER_DELAY          5258837\n",
      "NAS_DELAY              5258837\n",
      "SECURITY_DELAY         5258837\n",
      "LATE_AIRCRAFT_DELAY    5258837\n",
      "dtype: int64\n"
     ]
    }
   ],
   "source": [
    "print(df_2009.isnull().sum())"
   ]
  },
  {
   "cell_type": "code",
   "execution_count": 5,
   "metadata": {},
   "outputs": [
    {
     "name": "stdout",
     "output_type": "stream",
     "text": [
      "FL_DATE                      0\n",
      "OP_CARRIER                   0\n",
      "OP_CARRIER_FL_NUM            0\n",
      "ORIGIN                       0\n",
      "DEST                         0\n",
      "CRS_DEP_TIME                 0\n",
      "DEP_TIME                     0\n",
      "DEP_DELAY                    0\n",
      "TAXI_OUT                     0\n",
      "WHEELS_OFF                   0\n",
      "WHEELS_ON                    0\n",
      "TAXI_IN                      0\n",
      "CRS_ARR_TIME                 0\n",
      "ARR_TIME                     0\n",
      "ARR_DELAY                13040\n",
      "CANCELLED                    0\n",
      "CANCELLATION_CODE      6340016\n",
      "DIVERTED                     0\n",
      "CRS_ELAPSED_TIME             0\n",
      "ACTUAL_ELAPSED_TIME      13040\n",
      "AIR_TIME                 13040\n",
      "DISTANCE                     0\n",
      "CARRIER_DELAY          5169515\n",
      "WEATHER_DELAY          5169515\n",
      "NAS_DELAY              5169515\n",
      "SECURITY_DELAY         5169515\n",
      "LATE_AIRCRAFT_DELAY    5169515\n",
      "dtype: int64\n"
     ]
    }
   ],
   "source": [
    "# Dependent features like air time can be imputed - remove all entries with null values in independent features\n",
    "\n",
    "df_2009 = df_2009.dropna(\n",
    "    subset=[\"DEP_TIME\", \"TAXI_OUT\", \"WHEELS_OFF\", \"WHEELS_ON\", \"ARR_TIME\"]\n",
    ")\n",
    "print(df_2009.isnull().sum())"
   ]
  },
  {
   "cell_type": "code",
   "execution_count": 6,
   "metadata": {},
   "outputs": [
    {
     "name": "stdout",
     "output_type": "stream",
     "text": [
      "(6340016, 27)\n"
     ]
    }
   ],
   "source": [
    "print(df_2009.shape)"
   ]
  },
  {
   "cell_type": "code",
   "execution_count": 7,
   "metadata": {},
   "outputs": [],
   "source": [
    "def subtract_time(time1, time2):\n",
    "    # Extract hours and minutes from time integers\n",
    "    hour1, minute1 = divmod(time1, 100)\n",
    "    hour2, minute2 = divmod(time2, 100)\n",
    "\n",
    "    # Convert to minutes\n",
    "    total_min1 = 60 * hour1 + minute1\n",
    "    total_min2 = 60 * hour2 + minute2\n",
    "\n",
    "    # Perform subtraction\n",
    "    min_subtracted = total_min1 - total_min2\n",
    "\n",
    "    # Return the result as an integer in 24-hour time format\n",
    "    return min_subtracted"
   ]
  },
  {
   "cell_type": "code",
   "execution_count": 8,
   "metadata": {},
   "outputs": [
    {
     "name": "stdout",
     "output_type": "stream",
     "text": [
      "25\n"
     ]
    }
   ],
   "source": [
    "print(subtract_time(1145, 1120))"
   ]
  },
  {
   "cell_type": "code",
   "execution_count": 9,
   "metadata": {},
   "outputs": [
    {
     "name": "stdout",
     "output_type": "stream",
     "text": [
      "FL_DATE                      0\n",
      "OP_CARRIER                   0\n",
      "OP_CARRIER_FL_NUM            0\n",
      "ORIGIN                       0\n",
      "DEST                         0\n",
      "CRS_DEP_TIME                 0\n",
      "DEP_TIME                     0\n",
      "DEP_DELAY                    0\n",
      "TAXI_OUT                     0\n",
      "WHEELS_OFF                   0\n",
      "WHEELS_ON                    0\n",
      "TAXI_IN                      0\n",
      "CRS_ARR_TIME                 0\n",
      "ARR_TIME                     0\n",
      "ARR_DELAY                    0\n",
      "CANCELLED                    0\n",
      "CANCELLATION_CODE      6340016\n",
      "DIVERTED                     0\n",
      "CRS_ELAPSED_TIME             0\n",
      "ACTUAL_ELAPSED_TIME          0\n",
      "AIR_TIME                     0\n",
      "DISTANCE                     0\n",
      "CARRIER_DELAY          5169515\n",
      "WEATHER_DELAY          5169515\n",
      "NAS_DELAY              5169515\n",
      "SECURITY_DELAY         5169515\n",
      "LATE_AIRCRAFT_DELAY    5169515\n",
      "dtype: int64\n"
     ]
    }
   ],
   "source": [
    "# Impute all dependent variables\n",
    "\n",
    "dependent_vars = [\"ARR_DELAY\", \"AIR_TIME\", \"ACTUAL_ELAPSED_TIME\"]\n",
    "df_2009[dependent_vars[0]].fillna(\n",
    "    subtract_time(df_2009[\"ARR_TIME\"], df_2009[\"CRS_ARR_TIME\"]), inplace=True\n",
    ")\n",
    "df_2009[dependent_vars[1]].fillna(\n",
    "    subtract_time(df_2009[\"WHEELS_ON\"], df_2009[\"WHEELS_OFF\"]), inplace=True\n",
    ")\n",
    "df_2009[dependent_vars[2]].fillna(\n",
    "    df_2009[\"AIR_TIME\"] + df_2009[\"TAXI_IN\"] + df_2009[\"TAXI_OUT\"], inplace=True\n",
    ")\n",
    "\n",
    "print(df_2009.isnull().sum())"
   ]
  },
  {
   "cell_type": "markdown",
   "metadata": {},
   "source": [
    "## Data Visualization"
   ]
  },
  {
   "cell_type": "code",
   "execution_count": 14,
   "metadata": {},
   "outputs": [
    {
     "data": {
      "image/png": "[encoded data removed]",
      "text/plain": [
       "<Figure size 432x288 with 1 Axes>"
      ]
     },
     "metadata": {},
     "output_type": "display_data"
    }
   ],
   "source": [
    "# Visualize the distribution of carriers\n",
    "\n",
    "carrierslist = df_2009[\"OP_CARRIER\"].tolist()\n",
    "plt.figure(facecolor=\"white\")\n",
    "plt.title(\"Carriers\")\n",
    "plt.xlabel(\"Carrier\")\n",
    "plt.ylabel(\"Counts\")\n",
    "plt.hist(x=carrierslist, edgecolor=\"black\", bins=19)\n",
    "plt.grid(True)\n",
    "plt.savefig(\"carriers.png\")\n",
    "plt.show()"
   ]
  },
  {
   "cell_type": "code",
   "execution_count": 18,
   "metadata": {},
   "outputs": [
    {
     "name": "stdout",
     "output_type": "stream",
     "text": [
      "Percentage of cancellations: 3.7%\n"
     ]
    }
   ],
   "source": [
    "# Find percentage of cancelled flights\n",
    "percent_cancelled = (df_2009[\"CANCELLED\"] == 1).size / df_2009.size\n",
    "print(f\"Percentage of cancellations: {round(percent_cancelled * 100, 2)}%\")"
   ]
  },
  {
   "cell_type": "code",
   "execution_count": 21,
   "metadata": {},
   "outputs": [
    {
     "data": {
      "image/png": "[encoded data removed]",
      "text/plain": [
       "<Figure size 432x288 with 1 Axes>"
      ]
     },
     "metadata": {},
     "output_type": "display_data"
    }
   ],
   "source": [
    "# Visualize the distribution of distance travelled\n",
    "distancelist = df_2009[\"DISTANCE\"].tolist()\n",
    "avgdistance = np.mean(distancelist)\n",
    "text = f\"Average distance traveled: {round(avgdistance, 2)} miles\"\n",
    "plt.figure(facecolor=\"white\")\n",
    "plt.text(\n",
    "    1.05,\n",
    "    0.60,\n",
    "    text,\n",
    "    ha=\"left\",\n",
    "    va=\"bottom\",\n",
    "    transform=plt.gca().transAxes,\n",
    "    bbox=dict(boxstyle=\"round\", facecolor=\"wheat\", alpha=0.5),\n",
    ")\n",
    "plt.title(\"Distance Travelled\")\n",
    "plt.xlabel(\"Distance (Miles)\")\n",
    "plt.ylabel(\"Frequency\")\n",
    "plt.hist(x=distancelist, edgecolor=\"black\", bins=20)\n",
    "plt.grid(True)\n",
    "plt.tight_layout()\n",
    "plt.savefig(\"distance.png\")\n",
    "plt.show()"
   ]
  }
 ],
 "metadata": {
  "kernelspec": {
   "display_name": "base",
   "language": "python",
   "name": "python3"
  },
  "language_info": {
   "codemirror_mode": {
    "name": "ipython",
    "version": 3
   },
   "file_extension": ".py",
   "mimetype": "text/x-python",
   "name": "python",
   "nbconvert_exporter": "python",
   "pygments_lexer": "ipython3",
   "version": "3.8.8"
  }
 },
 "nbformat": 4,
 "nbformat_minor": 2
}
